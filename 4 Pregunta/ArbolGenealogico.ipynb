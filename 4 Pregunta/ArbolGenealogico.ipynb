{
  "nbformat": 4,
  "nbformat_minor": 0,
  "metadata": {
    "colab": {
      "provenance": []
    },
    "kernelspec": {
      "name": "python3",
      "display_name": "Python 3"
    },
    "language_info": {
      "name": "python"
    }
  },
  "cells": [
    {
      "cell_type": "code",
      "source": [
        "!pip install kanren"
      ],
      "metadata": {
        "colab": {
          "base_uri": "https://localhost:8080/"
        },
        "id": "s18RfRvODi5g",
        "outputId": "a94f8828-f891-4049-c9b4-775e49f4dcfd"
      },
      "execution_count": null,
      "outputs": [
        {
          "output_type": "stream",
          "name": "stdout",
          "text": [
            "Looking in indexes: https://pypi.org/simple, https://us-python.pkg.dev/colab-wheels/public/simple/\n",
            "Collecting kanren\n",
            "  Downloading kanren-0.2.3.tar.gz (23 kB)\n",
            "  Preparing metadata (setup.py) ... \u001b[?25l\u001b[?25hdone\n",
            "Requirement already satisfied: toolz in /usr/local/lib/python3.9/dist-packages (from kanren) (0.12.0)\n",
            "Requirement already satisfied: multipledispatch in /usr/local/lib/python3.9/dist-packages (from kanren) (0.6.0)\n",
            "Collecting unification\n",
            "  Downloading unification-0.2.2-py2.py3-none-any.whl (10 kB)\n",
            "Requirement already satisfied: six in /usr/local/lib/python3.9/dist-packages (from multipledispatch->kanren) (1.16.0)\n",
            "Building wheels for collected packages: kanren\n",
            "  Building wheel for kanren (setup.py) ... \u001b[?25l\u001b[?25hdone\n",
            "  Created wheel for kanren: filename=kanren-0.2.3-py3-none-any.whl size=15871 sha256=748720f3331557252837de5a8c512188aa5f182a91350a5669b69dcd1b4276d2\n",
            "  Stored in directory: /root/.cache/pip/wheels/8c/09/6e/3d8304369a068f6bcad99d1e11b868a68ed3f795b24b2a3642\n",
            "Successfully built kanren\n",
            "Installing collected packages: unification, kanren\n",
            "Successfully installed kanren-0.2.3 unification-0.2.2\n"
          ]
        }
      ]
    },
    {
      "cell_type": "code",
      "source": [
        "from kanren import Relation, facts, run, conde, var, eq"
      ],
      "metadata": {
        "id": "tmsgJACvDecS"
      },
      "execution_count": null,
      "outputs": []
    },
    {
      "cell_type": "code",
      "execution_count": null,
      "metadata": {
        "colab": {
          "base_uri": "https://localhost:8080/"
        },
        "id": "c9oE70z_Db9Q",
        "outputId": "d49153a9-13a5-48ce-fe23-827202d6dbdd"
      },
      "outputs": [
        {
          "output_type": "stream",
          "name": "stdout",
          "text": [
            "Hijos de Juan:\n",
            "('Pedro', 'Maria')\n",
            "Hijos de Luisa:\n",
            "('Jose', 'Luis')\n"
          ]
        }
      ],
      "source": [
        "\n",
        "# Definimos las relaciones entre los miembros de la familia\n",
        "padre = Relation()\n",
        "madre = Relation()\n",
        "abuelo = Relation()\n",
        "abuela = Relation()\n",
        "hijo = Relation()\n",
        "hija = Relation()\n",
        "tio = Relation()\n",
        "tia = Relation()\n",
        "primo = Relation()\n",
        "prima = Relation()\n",
        "\n",
        "# Establecemos los hechos\n",
        "facts(padre, (\"Juan\", \"Pedro\"), (\"Juan\", \"Maria\"), (\"Pedro\", \"Jose\"), (\"Pedro\", \"Luis\"),(\"Luis\", \"Juan\"))\n",
        "facts(madre, (\"Ana\", \"Pedro\"), (\"Ana\", \"Maria\"), (\"Luisa\", \"Jose\"), (\"Luisa\", \"Luis\"))\n",
        "facts(abuelo, (\"Carlos\", \"Juan\"), (\"Carlos\", \"Luisa\"))\n",
        "facts(abuela, (\"Lola\", \"Juan\"), (\"Lola\", \"Luisa\"))\n",
        "facts(hijo, (\"Pedro\", \"Jose\"), (\"Pedro\", \"Luis\"), (\"Jose\", \"Ana\"), (\"Maria\", \"Ana\"), (\"Luis\", \"Luisa\"))\n",
        "facts(hija, (\"Ana\", \"Jose\"), (\"Ana\", \"Luis\"), (\"Luisa\", \"Juan\"), (\"Luisa\", \"Lola\"))\n",
        "facts(tio, (\"Miguel\", \"Jose\"), (\"Miguel\", \"Luis\"), (\"Miguel\", \"Maria\"))\n",
        "facts(tia, (\"Sofia\", \"Jose\"), (\"Sofia\", \"Luis\"), (\"Sofia\", \"Maria\"))\n",
        "facts(primo, (\"Antonio\", \"Miguel\"), (\"Antonio\", \"Jose\"), (\"Pablo\", \"Miguel\"), (\"Pablo\", \"Luis\"), (\"Jorge\", \"Miguel\"), (\"Jorge\", \"Maria\"))\n",
        "facts(prima, (\"Laura\", \"Sofia\"), (\"Laura\", \"Jose\"), (\"Maria\", \"Sofia\"), (\"Maria\", \"Luis\"), (\"Sara\", \"Sofia\"), (\"Sara\", \"Maria\"))\n",
        "\n",
        "# Consultas\n",
        "x = var()\n",
        "y = var()\n",
        "z = var()\n",
        "\n",
        "# Ejemplos de búsqueda\n",
        "print(\"Hijos de Juan:\")\n",
        "print(run(3,x,padre(\"Juan\",x)))\n",
        "\n",
        "print(\"Hijos de Luisa:\")\n",
        "print(run(3,x,madre(\"Luisa\",x)))\n",
        "\n"
      ]
    }
  ]
}